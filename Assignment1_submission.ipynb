{
  "cells": [
    {
      "cell_type": "markdown",
      "metadata": {
        "id": "qEp_Gfvve7Wb"
      },
      "source": [
        "# **Assignment 1 - Language Models**\n",
        "#### **Due: September 21, 2023 (11:59PM)**"
      ]
    },
    {
      "cell_type": "markdown",
      "metadata": {
        "id": "c0mQO36cfN_9"
      },
      "source": [
        "### **Notes**\n",
        "\n",
        "### **Introduction**\n",
        "\n",
        "Welcome to CSE 527A. Each assignment will contain two parts: a written and coding portion. The coding portion for each homework assignment will be delivered through a Colaboratory notebook such as this one. Please use as many code and markdown cells to run and explain all the steps you took in order to answer each question for each problem. Please keep in mind the collaboration policy as specified in the Academic Integrity section of the syllabus and cite all external sources and/or collaborators.\n",
        "\n",
        "### **Comments/Documentation**\n",
        "\n",
        "Please follow PEP 8 style guidelines (https://peps.python.org/pep-0008/) for commenting your code. Furthermore, please remember to manually save your work once in a while. If you are connected to a hosted runtime that if for whatever reason it disconnects you will have to rerun all connected code cells.\n",
        "\n",
        "### **Getting Started**\n",
        "\n",
        "In order to compile code efficiently, enable GPU support.\n",
        "\n",
        "To access a GPU, go to `Edit->Notebook settings` and in the `Hardware accelerator` dropdown choose `GPU`.\n",
        "As soon as you run a code cell, you will be connected to a cloud instance with a GPU.\n",
        "Try running the code cell below to check that a GPU is connected (select the cell then either click the play button at the top left or press `Ctrl+Enter` or `Shift+Enter`).\n",
        "\n",
        "The free version of Google Colab will provide the necessary hardware for this course. Please keep in mind the RAM and Disk Space that you are allocated and that you are not given an infinite active runtime.\n",
        "\n",
        "### **Submission Instructions**\n",
        "\n",
        "We will use Gradescope for assignment submission. Submit the written and code portions of the assignment to the respective assignments. **Please note if notebook output is cleared, you will receive a 0**. To download this notebook, go to `File->Download .ipynb`.\n",
        "\n",
        "When submitting your ipython notebooks, make sure everything runs correctly if the cells are executed in order starting from a fresh session.  Note that just because a cell runs in your current session doesn't mean it doesn't rely on code that you have already changed or deleted.\n",
        "\n",
        "Note that Gradesope will allow you to submit multiple times before the deadline, and we will use the latest submission for grading."
      ]
    },
    {
      "cell_type": "markdown",
      "metadata": {
        "id": "0hrjsO05g9PS"
      },
      "source": [
        "## **Setup**"
      ]
    },
    {
      "cell_type": "code",
      "execution_count": null,
      "metadata": {
        "colab": {
          "base_uri": "https://localhost:8080/"
        },
        "id": "vNW-H4F3hNUB",
        "outputId": "0e360c7f-6b22-4d04-d828-f074de62e1a8"
      },
      "outputs": [
        {
          "output_type": "stream",
          "name": "stdout",
          "text": [
            "Drive already mounted at /content/gdrive; to attempt to forcibly remount, call drive.mount(\"/content/gdrive\", force_remount=True).\n",
            "GPU 0: Tesla T4 (UUID: GPU-43e79988-d56d-5eb5-4b58-1edfcb135a55)\n"
          ]
        }
      ],
      "source": [
        "from google.colab import drive # one option to load datasets\n",
        "from google.colab import files\n",
        "drive.mount('/content/gdrive')\n",
        "!nvidia-smi -L # check if using GPU"
      ]
    },
    {
      "cell_type": "code",
      "execution_count": null,
      "metadata": {
        "colab": {
          "base_uri": "https://localhost:8080/"
        },
        "id": "jC3ym_mKg-9g",
        "outputId": "5c5e3794-e51e-4207-db9a-8d870f679688"
      },
      "outputs": [
        {
          "output_type": "stream",
          "name": "stdout",
          "text": [
            "Requirement already satisfied: datasets in /usr/local/lib/python3.10/dist-packages (2.14.5)\n",
            "Requirement already satisfied: numpy>=1.17 in /usr/local/lib/python3.10/dist-packages (from datasets) (1.23.5)\n",
            "Requirement already satisfied: pyarrow>=8.0.0 in /usr/local/lib/python3.10/dist-packages (from datasets) (9.0.0)\n",
            "Requirement already satisfied: dill<0.3.8,>=0.3.0 in /usr/local/lib/python3.10/dist-packages (from datasets) (0.3.7)\n",
            "Requirement already satisfied: pandas in /usr/local/lib/python3.10/dist-packages (from datasets) (1.5.3)\n",
            "Requirement already satisfied: requests>=2.19.0 in /usr/local/lib/python3.10/dist-packages (from datasets) (2.31.0)\n",
            "Requirement already satisfied: tqdm>=4.62.1 in /usr/local/lib/python3.10/dist-packages (from datasets) (4.66.1)\n",
            "Requirement already satisfied: xxhash in /usr/local/lib/python3.10/dist-packages (from datasets) (3.3.0)\n",
            "Requirement already satisfied: multiprocess in /usr/local/lib/python3.10/dist-packages (from datasets) (0.70.15)\n",
            "Requirement already satisfied: fsspec[http]<2023.9.0,>=2023.1.0 in /usr/local/lib/python3.10/dist-packages (from datasets) (2023.6.0)\n",
            "Requirement already satisfied: aiohttp in /usr/local/lib/python3.10/dist-packages (from datasets) (3.8.5)\n",
            "Requirement already satisfied: huggingface-hub<1.0.0,>=0.14.0 in /usr/local/lib/python3.10/dist-packages (from datasets) (0.17.2)\n",
            "Requirement already satisfied: packaging in /usr/local/lib/python3.10/dist-packages (from datasets) (23.1)\n",
            "Requirement already satisfied: pyyaml>=5.1 in /usr/local/lib/python3.10/dist-packages (from datasets) (6.0.1)\n",
            "Requirement already satisfied: attrs>=17.3.0 in /usr/local/lib/python3.10/dist-packages (from aiohttp->datasets) (23.1.0)\n",
            "Requirement already satisfied: charset-normalizer<4.0,>=2.0 in /usr/local/lib/python3.10/dist-packages (from aiohttp->datasets) (3.2.0)\n",
            "Requirement already satisfied: multidict<7.0,>=4.5 in /usr/local/lib/python3.10/dist-packages (from aiohttp->datasets) (6.0.4)\n",
            "Requirement already satisfied: async-timeout<5.0,>=4.0.0a3 in /usr/local/lib/python3.10/dist-packages (from aiohttp->datasets) (4.0.3)\n",
            "Requirement already satisfied: yarl<2.0,>=1.0 in /usr/local/lib/python3.10/dist-packages (from aiohttp->datasets) (1.9.2)\n",
            "Requirement already satisfied: frozenlist>=1.1.1 in /usr/local/lib/python3.10/dist-packages (from aiohttp->datasets) (1.4.0)\n",
            "Requirement already satisfied: aiosignal>=1.1.2 in /usr/local/lib/python3.10/dist-packages (from aiohttp->datasets) (1.3.1)\n",
            "Requirement already satisfied: filelock in /usr/local/lib/python3.10/dist-packages (from huggingface-hub<1.0.0,>=0.14.0->datasets) (3.12.2)\n",
            "Requirement already satisfied: typing-extensions>=3.7.4.3 in /usr/local/lib/python3.10/dist-packages (from huggingface-hub<1.0.0,>=0.14.0->datasets) (4.5.0)\n",
            "Requirement already satisfied: idna<4,>=2.5 in /usr/local/lib/python3.10/dist-packages (from requests>=2.19.0->datasets) (3.4)\n",
            "Requirement already satisfied: urllib3<3,>=1.21.1 in /usr/local/lib/python3.10/dist-packages (from requests>=2.19.0->datasets) (2.0.4)\n",
            "Requirement already satisfied: certifi>=2017.4.17 in /usr/local/lib/python3.10/dist-packages (from requests>=2.19.0->datasets) (2023.7.22)\n",
            "Requirement already satisfied: python-dateutil>=2.8.1 in /usr/local/lib/python3.10/dist-packages (from pandas->datasets) (2.8.2)\n",
            "Requirement already satisfied: pytz>=2020.1 in /usr/local/lib/python3.10/dist-packages (from pandas->datasets) (2023.3.post1)\n",
            "Requirement already satisfied: six>=1.5 in /usr/local/lib/python3.10/dist-packages (from python-dateutil>=2.8.1->pandas->datasets) (1.16.0)\n"
          ]
        }
      ],
      "source": [
        "!pip install datasets"
      ]
    },
    {
      "cell_type": "code",
      "execution_count": null,
      "metadata": {
        "id": "Lo9p9KsnhltD"
      },
      "outputs": [],
      "source": [
        "# various imports you might find useful, feel free to import additional packages\n",
        "from datasets import load_dataset\n",
        "import string\n",
        "from functools import reduce\n",
        "from heapq import nlargest\n",
        "from tqdm import tqdm\n",
        "import numpy as np\n",
        "import re"
      ]
    },
    {
      "cell_type": "markdown",
      "metadata": {
        "id": "d0o3qkb6kwtL"
      },
      "source": [
        "## Problem 1: N-grams"
      ]
    },
    {
      "cell_type": "code",
      "execution_count": null,
      "metadata": {
        "id": "Xgb3aCwmfGsE"
      },
      "outputs": [],
      "source": [
        "# Loading the Dataset (this is done for you)\n",
        "train_split,val_split,test_split = load_dataset('wikitext', 'wikitext-2-v1',\n",
        "                                                           split =['train','validation','test'])\n",
        "train_df = train_split.to_pandas()\n",
        "val_df = val_split.to_pandas()\n",
        "test_df = test_split.to_pandas()"
      ]
    },
    {
      "cell_type": "code",
      "source": [
        "train_df"
      ],
      "metadata": {
        "colab": {
          "base_uri": "https://localhost:8080/",
          "height": 423
        },
        "id": "H1OB3izgBg2y",
        "outputId": "b8889b39-8bb8-45b8-f057-6ff0a5456658"
      },
      "execution_count": null,
      "outputs": [
        {
          "output_type": "execute_result",
          "data": {
            "text/plain": [
              "                                                    text\n",
              "0                                                       \n",
              "1                         = Valkyria Chronicles III = \\n\n",
              "2                                                       \n",
              "3       Senjō no Valkyria 3 : <unk> Chronicles ( Japa...\n",
              "4       The game began development in 2010 , carrying...\n",
              "...                                                  ...\n",
              "36713   Common starlings may be kept as pets or as la...\n",
              "36714   The common starling 's gift for mimicry has l...\n",
              "36715   Mozart had a pet common starling which could ...\n",
              "36716   Common starlings are trapped for food in some...\n",
              "36717                                                   \n",
              "\n",
              "[36718 rows x 1 columns]"
            ],
            "text/html": [
              "\n",
              "  <div id=\"df-8b23d0ea-d00a-470a-8f09-4da2e83f84b8\" class=\"colab-df-container\">\n",
              "    <div>\n",
              "<style scoped>\n",
              "    .dataframe tbody tr th:only-of-type {\n",
              "        vertical-align: middle;\n",
              "    }\n",
              "\n",
              "    .dataframe tbody tr th {\n",
              "        vertical-align: top;\n",
              "    }\n",
              "\n",
              "    .dataframe thead th {\n",
              "        text-align: right;\n",
              "    }\n",
              "</style>\n",
              "<table border=\"1\" class=\"dataframe\">\n",
              "  <thead>\n",
              "    <tr style=\"text-align: right;\">\n",
              "      <th></th>\n",
              "      <th>text</th>\n",
              "    </tr>\n",
              "  </thead>\n",
              "  <tbody>\n",
              "    <tr>\n",
              "      <th>0</th>\n",
              "      <td></td>\n",
              "    </tr>\n",
              "    <tr>\n",
              "      <th>1</th>\n",
              "      <td>= Valkyria Chronicles III = \\n</td>\n",
              "    </tr>\n",
              "    <tr>\n",
              "      <th>2</th>\n",
              "      <td></td>\n",
              "    </tr>\n",
              "    <tr>\n",
              "      <th>3</th>\n",
              "      <td>Senjō no Valkyria 3 : &lt;unk&gt; Chronicles ( Japa...</td>\n",
              "    </tr>\n",
              "    <tr>\n",
              "      <th>4</th>\n",
              "      <td>The game began development in 2010 , carrying...</td>\n",
              "    </tr>\n",
              "    <tr>\n",
              "      <th>...</th>\n",
              "      <td>...</td>\n",
              "    </tr>\n",
              "    <tr>\n",
              "      <th>36713</th>\n",
              "      <td>Common starlings may be kept as pets or as la...</td>\n",
              "    </tr>\n",
              "    <tr>\n",
              "      <th>36714</th>\n",
              "      <td>The common starling 's gift for mimicry has l...</td>\n",
              "    </tr>\n",
              "    <tr>\n",
              "      <th>36715</th>\n",
              "      <td>Mozart had a pet common starling which could ...</td>\n",
              "    </tr>\n",
              "    <tr>\n",
              "      <th>36716</th>\n",
              "      <td>Common starlings are trapped for food in some...</td>\n",
              "    </tr>\n",
              "    <tr>\n",
              "      <th>36717</th>\n",
              "      <td></td>\n",
              "    </tr>\n",
              "  </tbody>\n",
              "</table>\n",
              "<p>36718 rows × 1 columns</p>\n",
              "</div>\n",
              "    <div class=\"colab-df-buttons\">\n",
              "\n",
              "  <div class=\"colab-df-container\">\n",
              "    <button class=\"colab-df-convert\" onclick=\"convertToInteractive('df-8b23d0ea-d00a-470a-8f09-4da2e83f84b8')\"\n",
              "            title=\"Convert this dataframe to an interactive table.\"\n",
              "            style=\"display:none;\">\n",
              "\n",
              "  <svg xmlns=\"http://www.w3.org/2000/svg\" height=\"24px\" viewBox=\"0 -960 960 960\">\n",
              "    <path d=\"M120-120v-720h720v720H120Zm60-500h600v-160H180v160Zm220 220h160v-160H400v160Zm0 220h160v-160H400v160ZM180-400h160v-160H180v160Zm440 0h160v-160H620v160ZM180-180h160v-160H180v160Zm440 0h160v-160H620v160Z\"/>\n",
              "  </svg>\n",
              "    </button>\n",
              "\n",
              "  <style>\n",
              "    .colab-df-container {\n",
              "      display:flex;\n",
              "      gap: 12px;\n",
              "    }\n",
              "\n",
              "    .colab-df-convert {\n",
              "      background-color: #E8F0FE;\n",
              "      border: none;\n",
              "      border-radius: 50%;\n",
              "      cursor: pointer;\n",
              "      display: none;\n",
              "      fill: #1967D2;\n",
              "      height: 32px;\n",
              "      padding: 0 0 0 0;\n",
              "      width: 32px;\n",
              "    }\n",
              "\n",
              "    .colab-df-convert:hover {\n",
              "      background-color: #E2EBFA;\n",
              "      box-shadow: 0px 1px 2px rgba(60, 64, 67, 0.3), 0px 1px 3px 1px rgba(60, 64, 67, 0.15);\n",
              "      fill: #174EA6;\n",
              "    }\n",
              "\n",
              "    .colab-df-buttons div {\n",
              "      margin-bottom: 4px;\n",
              "    }\n",
              "\n",
              "    [theme=dark] .colab-df-convert {\n",
              "      background-color: #3B4455;\n",
              "      fill: #D2E3FC;\n",
              "    }\n",
              "\n",
              "    [theme=dark] .colab-df-convert:hover {\n",
              "      background-color: #434B5C;\n",
              "      box-shadow: 0px 1px 3px 1px rgba(0, 0, 0, 0.15);\n",
              "      filter: drop-shadow(0px 1px 2px rgba(0, 0, 0, 0.3));\n",
              "      fill: #FFFFFF;\n",
              "    }\n",
              "  </style>\n",
              "\n",
              "    <script>\n",
              "      const buttonEl =\n",
              "        document.querySelector('#df-8b23d0ea-d00a-470a-8f09-4da2e83f84b8 button.colab-df-convert');\n",
              "      buttonEl.style.display =\n",
              "        google.colab.kernel.accessAllowed ? 'block' : 'none';\n",
              "\n",
              "      async function convertToInteractive(key) {\n",
              "        const element = document.querySelector('#df-8b23d0ea-d00a-470a-8f09-4da2e83f84b8');\n",
              "        const dataTable =\n",
              "          await google.colab.kernel.invokeFunction('convertToInteractive',\n",
              "                                                    [key], {});\n",
              "        if (!dataTable) return;\n",
              "\n",
              "        const docLinkHtml = 'Like what you see? Visit the ' +\n",
              "          '<a target=\"_blank\" href=https://colab.research.google.com/notebooks/data_table.ipynb>data table notebook</a>'\n",
              "          + ' to learn more about interactive tables.';\n",
              "        element.innerHTML = '';\n",
              "        dataTable['output_type'] = 'display_data';\n",
              "        await google.colab.output.renderOutput(dataTable, element);\n",
              "        const docLink = document.createElement('div');\n",
              "        docLink.innerHTML = docLinkHtml;\n",
              "        element.appendChild(docLink);\n",
              "      }\n",
              "    </script>\n",
              "  </div>\n",
              "\n",
              "\n",
              "<div id=\"df-d9b26739-fec8-41a6-be59-f68e15341d5a\">\n",
              "  <button class=\"colab-df-quickchart\" onclick=\"quickchart('df-d9b26739-fec8-41a6-be59-f68e15341d5a')\"\n",
              "            title=\"Suggest charts.\"\n",
              "            style=\"display:none;\">\n",
              "\n",
              "<svg xmlns=\"http://www.w3.org/2000/svg\" height=\"24px\"viewBox=\"0 0 24 24\"\n",
              "     width=\"24px\">\n",
              "    <g>\n",
              "        <path d=\"M19 3H5c-1.1 0-2 .9-2 2v14c0 1.1.9 2 2 2h14c1.1 0 2-.9 2-2V5c0-1.1-.9-2-2-2zM9 17H7v-7h2v7zm4 0h-2V7h2v10zm4 0h-2v-4h2v4z\"/>\n",
              "    </g>\n",
              "</svg>\n",
              "  </button>\n",
              "\n",
              "<style>\n",
              "  .colab-df-quickchart {\n",
              "      --bg-color: #E8F0FE;\n",
              "      --fill-color: #1967D2;\n",
              "      --hover-bg-color: #E2EBFA;\n",
              "      --hover-fill-color: #174EA6;\n",
              "      --disabled-fill-color: #AAA;\n",
              "      --disabled-bg-color: #DDD;\n",
              "  }\n",
              "\n",
              "  [theme=dark] .colab-df-quickchart {\n",
              "      --bg-color: #3B4455;\n",
              "      --fill-color: #D2E3FC;\n",
              "      --hover-bg-color: #434B5C;\n",
              "      --hover-fill-color: #FFFFFF;\n",
              "      --disabled-bg-color: #3B4455;\n",
              "      --disabled-fill-color: #666;\n",
              "  }\n",
              "\n",
              "  .colab-df-quickchart {\n",
              "    background-color: var(--bg-color);\n",
              "    border: none;\n",
              "    border-radius: 50%;\n",
              "    cursor: pointer;\n",
              "    display: none;\n",
              "    fill: var(--fill-color);\n",
              "    height: 32px;\n",
              "    padding: 0;\n",
              "    width: 32px;\n",
              "  }\n",
              "\n",
              "  .colab-df-quickchart:hover {\n",
              "    background-color: var(--hover-bg-color);\n",
              "    box-shadow: 0 1px 2px rgba(60, 64, 67, 0.3), 0 1px 3px 1px rgba(60, 64, 67, 0.15);\n",
              "    fill: var(--button-hover-fill-color);\n",
              "  }\n",
              "\n",
              "  .colab-df-quickchart-complete:disabled,\n",
              "  .colab-df-quickchart-complete:disabled:hover {\n",
              "    background-color: var(--disabled-bg-color);\n",
              "    fill: var(--disabled-fill-color);\n",
              "    box-shadow: none;\n",
              "  }\n",
              "\n",
              "  .colab-df-spinner {\n",
              "    border: 2px solid var(--fill-color);\n",
              "    border-color: transparent;\n",
              "    border-bottom-color: var(--fill-color);\n",
              "    animation:\n",
              "      spin 1s steps(1) infinite;\n",
              "  }\n",
              "\n",
              "  @keyframes spin {\n",
              "    0% {\n",
              "      border-color: transparent;\n",
              "      border-bottom-color: var(--fill-color);\n",
              "      border-left-color: var(--fill-color);\n",
              "    }\n",
              "    20% {\n",
              "      border-color: transparent;\n",
              "      border-left-color: var(--fill-color);\n",
              "      border-top-color: var(--fill-color);\n",
              "    }\n",
              "    30% {\n",
              "      border-color: transparent;\n",
              "      border-left-color: var(--fill-color);\n",
              "      border-top-color: var(--fill-color);\n",
              "      border-right-color: var(--fill-color);\n",
              "    }\n",
              "    40% {\n",
              "      border-color: transparent;\n",
              "      border-right-color: var(--fill-color);\n",
              "      border-top-color: var(--fill-color);\n",
              "    }\n",
              "    60% {\n",
              "      border-color: transparent;\n",
              "      border-right-color: var(--fill-color);\n",
              "    }\n",
              "    80% {\n",
              "      border-color: transparent;\n",
              "      border-right-color: var(--fill-color);\n",
              "      border-bottom-color: var(--fill-color);\n",
              "    }\n",
              "    90% {\n",
              "      border-color: transparent;\n",
              "      border-bottom-color: var(--fill-color);\n",
              "    }\n",
              "  }\n",
              "</style>\n",
              "\n",
              "  <script>\n",
              "    async function quickchart(key) {\n",
              "      const quickchartButtonEl =\n",
              "        document.querySelector('#' + key + ' button');\n",
              "      quickchartButtonEl.disabled = true;  // To prevent multiple clicks.\n",
              "      quickchartButtonEl.classList.add('colab-df-spinner');\n",
              "      try {\n",
              "        const charts = await google.colab.kernel.invokeFunction(\n",
              "            'suggestCharts', [key], {});\n",
              "      } catch (error) {\n",
              "        console.error('Error during call to suggestCharts:', error);\n",
              "      }\n",
              "      quickchartButtonEl.classList.remove('colab-df-spinner');\n",
              "      quickchartButtonEl.classList.add('colab-df-quickchart-complete');\n",
              "    }\n",
              "    (() => {\n",
              "      let quickchartButtonEl =\n",
              "        document.querySelector('#df-d9b26739-fec8-41a6-be59-f68e15341d5a button');\n",
              "      quickchartButtonEl.style.display =\n",
              "        google.colab.kernel.accessAllowed ? 'block' : 'none';\n",
              "    })();\n",
              "  </script>\n",
              "</div>\n",
              "    </div>\n",
              "  </div>\n"
            ]
          },
          "metadata": {},
          "execution_count": 5
        }
      ]
    },
    {
      "cell_type": "code",
      "source": [
        "# Drop rows with '' value\n",
        "train_df = train_df[train_df['text']!= '']\n",
        "train_df = train_df.reset_index()\n",
        "train_df =  train_df.drop('index', axis=1)\n",
        "train_df\n",
        "# len(train_df)"
      ],
      "metadata": {
        "colab": {
          "base_uri": "https://localhost:8080/",
          "height": 423
        },
        "id": "TZcO70ZDC5s_",
        "outputId": "846b87f2-5fcd-4f09-d6cc-e6b7a03470e4"
      },
      "execution_count": null,
      "outputs": [
        {
          "output_type": "execute_result",
          "data": {
            "text/plain": [
              "                                                    text\n",
              "0                         = Valkyria Chronicles III = \\n\n",
              "1       Senjō no Valkyria 3 : <unk> Chronicles ( Japa...\n",
              "2       The game began development in 2010 , carrying...\n",
              "3       It met with positive sales in Japan , and was...\n",
              "4                                    = = Gameplay = = \\n\n",
              "...                                                  ...\n",
              "23762              = = = In science and culture = = = \\n\n",
              "23763   Common starlings may be kept as pets or as la...\n",
              "23764   The common starling 's gift for mimicry has l...\n",
              "23765   Mozart had a pet common starling which could ...\n",
              "23766   Common starlings are trapped for food in some...\n",
              "\n",
              "[23767 rows x 1 columns]"
            ],
            "text/html": [
              "\n",
              "  <div id=\"df-c87af41a-4154-49bc-b86a-9a7ee5ab41cc\" class=\"colab-df-container\">\n",
              "    <div>\n",
              "<style scoped>\n",
              "    .dataframe tbody tr th:only-of-type {\n",
              "        vertical-align: middle;\n",
              "    }\n",
              "\n",
              "    .dataframe tbody tr th {\n",
              "        vertical-align: top;\n",
              "    }\n",
              "\n",
              "    .dataframe thead th {\n",
              "        text-align: right;\n",
              "    }\n",
              "</style>\n",
              "<table border=\"1\" class=\"dataframe\">\n",
              "  <thead>\n",
              "    <tr style=\"text-align: right;\">\n",
              "      <th></th>\n",
              "      <th>text</th>\n",
              "    </tr>\n",
              "  </thead>\n",
              "  <tbody>\n",
              "    <tr>\n",
              "      <th>0</th>\n",
              "      <td>= Valkyria Chronicles III = \\n</td>\n",
              "    </tr>\n",
              "    <tr>\n",
              "      <th>1</th>\n",
              "      <td>Senjō no Valkyria 3 : &lt;unk&gt; Chronicles ( Japa...</td>\n",
              "    </tr>\n",
              "    <tr>\n",
              "      <th>2</th>\n",
              "      <td>The game began development in 2010 , carrying...</td>\n",
              "    </tr>\n",
              "    <tr>\n",
              "      <th>3</th>\n",
              "      <td>It met with positive sales in Japan , and was...</td>\n",
              "    </tr>\n",
              "    <tr>\n",
              "      <th>4</th>\n",
              "      <td>= = Gameplay = = \\n</td>\n",
              "    </tr>\n",
              "    <tr>\n",
              "      <th>...</th>\n",
              "      <td>...</td>\n",
              "    </tr>\n",
              "    <tr>\n",
              "      <th>23762</th>\n",
              "      <td>= = = In science and culture = = = \\n</td>\n",
              "    </tr>\n",
              "    <tr>\n",
              "      <th>23763</th>\n",
              "      <td>Common starlings may be kept as pets or as la...</td>\n",
              "    </tr>\n",
              "    <tr>\n",
              "      <th>23764</th>\n",
              "      <td>The common starling 's gift for mimicry has l...</td>\n",
              "    </tr>\n",
              "    <tr>\n",
              "      <th>23765</th>\n",
              "      <td>Mozart had a pet common starling which could ...</td>\n",
              "    </tr>\n",
              "    <tr>\n",
              "      <th>23766</th>\n",
              "      <td>Common starlings are trapped for food in some...</td>\n",
              "    </tr>\n",
              "  </tbody>\n",
              "</table>\n",
              "<p>23767 rows × 1 columns</p>\n",
              "</div>\n",
              "    <div class=\"colab-df-buttons\">\n",
              "\n",
              "  <div class=\"colab-df-container\">\n",
              "    <button class=\"colab-df-convert\" onclick=\"convertToInteractive('df-c87af41a-4154-49bc-b86a-9a7ee5ab41cc')\"\n",
              "            title=\"Convert this dataframe to an interactive table.\"\n",
              "            style=\"display:none;\">\n",
              "\n",
              "  <svg xmlns=\"http://www.w3.org/2000/svg\" height=\"24px\" viewBox=\"0 -960 960 960\">\n",
              "    <path d=\"M120-120v-720h720v720H120Zm60-500h600v-160H180v160Zm220 220h160v-160H400v160Zm0 220h160v-160H400v160ZM180-400h160v-160H180v160Zm440 0h160v-160H620v160ZM180-180h160v-160H180v160Zm440 0h160v-160H620v160Z\"/>\n",
              "  </svg>\n",
              "    </button>\n",
              "\n",
              "  <style>\n",
              "    .colab-df-container {\n",
              "      display:flex;\n",
              "      gap: 12px;\n",
              "    }\n",
              "\n",
              "    .colab-df-convert {\n",
              "      background-color: #E8F0FE;\n",
              "      border: none;\n",
              "      border-radius: 50%;\n",
              "      cursor: pointer;\n",
              "      display: none;\n",
              "      fill: #1967D2;\n",
              "      height: 32px;\n",
              "      padding: 0 0 0 0;\n",
              "      width: 32px;\n",
              "    }\n",
              "\n",
              "    .colab-df-convert:hover {\n",
              "      background-color: #E2EBFA;\n",
              "      box-shadow: 0px 1px 2px rgba(60, 64, 67, 0.3), 0px 1px 3px 1px rgba(60, 64, 67, 0.15);\n",
              "      fill: #174EA6;\n",
              "    }\n",
              "\n",
              "    .colab-df-buttons div {\n",
              "      margin-bottom: 4px;\n",
              "    }\n",
              "\n",
              "    [theme=dark] .colab-df-convert {\n",
              "      background-color: #3B4455;\n",
              "      fill: #D2E3FC;\n",
              "    }\n",
              "\n",
              "    [theme=dark] .colab-df-convert:hover {\n",
              "      background-color: #434B5C;\n",
              "      box-shadow: 0px 1px 3px 1px rgba(0, 0, 0, 0.15);\n",
              "      filter: drop-shadow(0px 1px 2px rgba(0, 0, 0, 0.3));\n",
              "      fill: #FFFFFF;\n",
              "    }\n",
              "  </style>\n",
              "\n",
              "    <script>\n",
              "      const buttonEl =\n",
              "        document.querySelector('#df-c87af41a-4154-49bc-b86a-9a7ee5ab41cc button.colab-df-convert');\n",
              "      buttonEl.style.display =\n",
              "        google.colab.kernel.accessAllowed ? 'block' : 'none';\n",
              "\n",
              "      async function convertToInteractive(key) {\n",
              "        const element = document.querySelector('#df-c87af41a-4154-49bc-b86a-9a7ee5ab41cc');\n",
              "        const dataTable =\n",
              "          await google.colab.kernel.invokeFunction('convertToInteractive',\n",
              "                                                    [key], {});\n",
              "        if (!dataTable) return;\n",
              "\n",
              "        const docLinkHtml = 'Like what you see? Visit the ' +\n",
              "          '<a target=\"_blank\" href=https://colab.research.google.com/notebooks/data_table.ipynb>data table notebook</a>'\n",
              "          + ' to learn more about interactive tables.';\n",
              "        element.innerHTML = '';\n",
              "        dataTable['output_type'] = 'display_data';\n",
              "        await google.colab.output.renderOutput(dataTable, element);\n",
              "        const docLink = document.createElement('div');\n",
              "        docLink.innerHTML = docLinkHtml;\n",
              "        element.appendChild(docLink);\n",
              "      }\n",
              "    </script>\n",
              "  </div>\n",
              "\n",
              "\n",
              "<div id=\"df-314a61d5-3be7-46c3-8a58-518499c78fb6\">\n",
              "  <button class=\"colab-df-quickchart\" onclick=\"quickchart('df-314a61d5-3be7-46c3-8a58-518499c78fb6')\"\n",
              "            title=\"Suggest charts.\"\n",
              "            style=\"display:none;\">\n",
              "\n",
              "<svg xmlns=\"http://www.w3.org/2000/svg\" height=\"24px\"viewBox=\"0 0 24 24\"\n",
              "     width=\"24px\">\n",
              "    <g>\n",
              "        <path d=\"M19 3H5c-1.1 0-2 .9-2 2v14c0 1.1.9 2 2 2h14c1.1 0 2-.9 2-2V5c0-1.1-.9-2-2-2zM9 17H7v-7h2v7zm4 0h-2V7h2v10zm4 0h-2v-4h2v4z\"/>\n",
              "    </g>\n",
              "</svg>\n",
              "  </button>\n",
              "\n",
              "<style>\n",
              "  .colab-df-quickchart {\n",
              "      --bg-color: #E8F0FE;\n",
              "      --fill-color: #1967D2;\n",
              "      --hover-bg-color: #E2EBFA;\n",
              "      --hover-fill-color: #174EA6;\n",
              "      --disabled-fill-color: #AAA;\n",
              "      --disabled-bg-color: #DDD;\n",
              "  }\n",
              "\n",
              "  [theme=dark] .colab-df-quickchart {\n",
              "      --bg-color: #3B4455;\n",
              "      --fill-color: #D2E3FC;\n",
              "      --hover-bg-color: #434B5C;\n",
              "      --hover-fill-color: #FFFFFF;\n",
              "      --disabled-bg-color: #3B4455;\n",
              "      --disabled-fill-color: #666;\n",
              "  }\n",
              "\n",
              "  .colab-df-quickchart {\n",
              "    background-color: var(--bg-color);\n",
              "    border: none;\n",
              "    border-radius: 50%;\n",
              "    cursor: pointer;\n",
              "    display: none;\n",
              "    fill: var(--fill-color);\n",
              "    height: 32px;\n",
              "    padding: 0;\n",
              "    width: 32px;\n",
              "  }\n",
              "\n",
              "  .colab-df-quickchart:hover {\n",
              "    background-color: var(--hover-bg-color);\n",
              "    box-shadow: 0 1px 2px rgba(60, 64, 67, 0.3), 0 1px 3px 1px rgba(60, 64, 67, 0.15);\n",
              "    fill: var(--button-hover-fill-color);\n",
              "  }\n",
              "\n",
              "  .colab-df-quickchart-complete:disabled,\n",
              "  .colab-df-quickchart-complete:disabled:hover {\n",
              "    background-color: var(--disabled-bg-color);\n",
              "    fill: var(--disabled-fill-color);\n",
              "    box-shadow: none;\n",
              "  }\n",
              "\n",
              "  .colab-df-spinner {\n",
              "    border: 2px solid var(--fill-color);\n",
              "    border-color: transparent;\n",
              "    border-bottom-color: var(--fill-color);\n",
              "    animation:\n",
              "      spin 1s steps(1) infinite;\n",
              "  }\n",
              "\n",
              "  @keyframes spin {\n",
              "    0% {\n",
              "      border-color: transparent;\n",
              "      border-bottom-color: var(--fill-color);\n",
              "      border-left-color: var(--fill-color);\n",
              "    }\n",
              "    20% {\n",
              "      border-color: transparent;\n",
              "      border-left-color: var(--fill-color);\n",
              "      border-top-color: var(--fill-color);\n",
              "    }\n",
              "    30% {\n",
              "      border-color: transparent;\n",
              "      border-left-color: var(--fill-color);\n",
              "      border-top-color: var(--fill-color);\n",
              "      border-right-color: var(--fill-color);\n",
              "    }\n",
              "    40% {\n",
              "      border-color: transparent;\n",
              "      border-right-color: var(--fill-color);\n",
              "      border-top-color: var(--fill-color);\n",
              "    }\n",
              "    60% {\n",
              "      border-color: transparent;\n",
              "      border-right-color: var(--fill-color);\n",
              "    }\n",
              "    80% {\n",
              "      border-color: transparent;\n",
              "      border-right-color: var(--fill-color);\n",
              "      border-bottom-color: var(--fill-color);\n",
              "    }\n",
              "    90% {\n",
              "      border-color: transparent;\n",
              "      border-bottom-color: var(--fill-color);\n",
              "    }\n",
              "  }\n",
              "</style>\n",
              "\n",
              "  <script>\n",
              "    async function quickchart(key) {\n",
              "      const quickchartButtonEl =\n",
              "        document.querySelector('#' + key + ' button');\n",
              "      quickchartButtonEl.disabled = true;  // To prevent multiple clicks.\n",
              "      quickchartButtonEl.classList.add('colab-df-spinner');\n",
              "      try {\n",
              "        const charts = await google.colab.kernel.invokeFunction(\n",
              "            'suggestCharts', [key], {});\n",
              "      } catch (error) {\n",
              "        console.error('Error during call to suggestCharts:', error);\n",
              "      }\n",
              "      quickchartButtonEl.classList.remove('colab-df-spinner');\n",
              "      quickchartButtonEl.classList.add('colab-df-quickchart-complete');\n",
              "    }\n",
              "    (() => {\n",
              "      let quickchartButtonEl =\n",
              "        document.querySelector('#df-314a61d5-3be7-46c3-8a58-518499c78fb6 button');\n",
              "      quickchartButtonEl.style.display =\n",
              "        google.colab.kernel.accessAllowed ? 'block' : 'none';\n",
              "    })();\n",
              "  </script>\n",
              "</div>\n",
              "    </div>\n",
              "  </div>\n"
            ]
          },
          "metadata": {},
          "execution_count": 6
        }
      ]
    },
    {
      "cell_type": "markdown",
      "metadata": {
        "id": "dbvdKVYck9hn"
      },
      "source": [
        "### Problem 1.1: Write a program to compute unsmoothed unigrams, bigrams, and trigrams."
      ]
    },
    {
      "cell_type": "markdown",
      "metadata": {
        "id": "nZs99M9ciTdI"
      },
      "source": [
        "TODO: Fill in the `remove_punctuation` method below."
      ]
    },
    {
      "cell_type": "code",
      "execution_count": null,
      "metadata": {
        "id": "0uw-BdehhEMR"
      },
      "outputs": [],
      "source": [
        "import string\n",
        "def remove_punctuation(text)-> str:\n",
        "    \"\"\"Given an input text, this utility function should strip punctuation,\n",
        "    extra white spaces, and from unknown tokens (<unk>) from the text.\n",
        "\n",
        "    Args:\n",
        "        text (str): input text\n",
        "\n",
        "    Returns:\n",
        "        processed_text (str): processed input text\n",
        "    \"\"\"\n",
        "    text = text.replace('<unk>', '')\n",
        "\n",
        "    for i in text:\n",
        "        if i in string.punctuation:\n",
        "            text = text.replace(i, \"\")\n",
        "\n",
        "    text = ' '.join(text.split())\n",
        "\n",
        "\n",
        "    return text\n",
        "\n",
        "for i in range(len(train_df)):\n",
        "  train_df['text'][i] = remove_punctuation(train_df['text'][i])"
      ]
    },
    {
      "cell_type": "markdown",
      "metadata": {
        "id": "ZCqWxFLxkLBI"
      },
      "source": [
        "TODO: Fill in the `n_gram` method below. Do not import NLTK.\n",
        ">Hint: Don't forget to remove punctuation from the input text."
      ]
    },
    {
      "cell_type": "code",
      "execution_count": null,
      "metadata": {
        "id": "I7sE-XLCkI_v"
      },
      "outputs": [],
      "source": [
        "def n_gram(text,context,ngram):\n",
        "    \"\"\"Method to calculate the ngrams of a specific degree from a piece of text. Unseen ngrams\n",
        "    should be added to context, while already seen ngrams should have their occurance count increased.\n",
        "\n",
        "    Args:\n",
        "        text (str): unprocessed input text\n",
        "        context (Dict[str, int]): Dictionary mapping each already seen ngram to it's occurance count\n",
        "        ngram (int): degree of ngram to compute (i.e. compute bigrams when ngram=2)\n",
        "\n",
        "    Returns:\n",
        "        context (Dict[str, int]): Dictionary mapping each seen ngram to it's occurance count\n",
        "        populated with the ngrams from the input text\n",
        "    \"\"\"\n",
        "    text = text.split(\" \")\n",
        "\n",
        "    for i in range(len(text) - ngram + 1):\n",
        "        ngram_value = ' '.join(text[i : i+ngram])\n",
        "        #  if an n-gram is not present in the context, it defaults to a count of 0.\n",
        "        context[ngram_value] = context.get(ngram_value, 0) + 1\n",
        "    return context\n",
        "\n"
      ]
    },
    {
      "cell_type": "markdown",
      "metadata": {
        "id": "0nq-U6SrkrKz"
      },
      "source": [
        "### Problem 1.2: Train the model on the wikitext-2-v1 corpus"
      ]
    },
    {
      "cell_type": "markdown",
      "metadata": {
        "id": "xH2NeYs-3l7U"
      },
      "source": [
        "TODO: Train the model on the wikitext-2-v1 corpus by calculating all the unigrams, bigrams, and trigrams. Then, print out the top 10 most frequent unigrams, bigrams, and trigrams. Do not import NLTK."
      ]
    },
    {
      "cell_type": "code",
      "source": [
        "train_df"
      ],
      "metadata": {
        "colab": {
          "base_uri": "https://localhost:8080/",
          "height": 423
        },
        "id": "S-BOEpyOvcOk",
        "outputId": "de76007c-1a3d-43c4-fbd4-73d722508a8d"
      },
      "execution_count": null,
      "outputs": [
        {
          "output_type": "execute_result",
          "data": {
            "text/plain": [
              "                                                    text\n",
              "0                                Valkyria Chronicles III\n",
              "1      Senjō no Valkyria 3 Chronicles Japanese 戦場のヴァル...\n",
              "2      The game began development in 2010 carrying ov...\n",
              "3      It met with positive sales in Japan and was pr...\n",
              "4                                               Gameplay\n",
              "...                                                  ...\n",
              "23762                             In science and culture\n",
              "23763  Common starlings may be kept as pets or as lab...\n",
              "23764  The common starling s gift for mimicry has lon...\n",
              "23765  Mozart had a pet common starling which could s...\n",
              "23766  Common starlings are trapped for food in some ...\n",
              "\n",
              "[23767 rows x 1 columns]"
            ],
            "text/html": [
              "\n",
              "  <div id=\"df-797f32fd-6bec-4075-85c4-3d90b8d7c9c5\" class=\"colab-df-container\">\n",
              "    <div>\n",
              "<style scoped>\n",
              "    .dataframe tbody tr th:only-of-type {\n",
              "        vertical-align: middle;\n",
              "    }\n",
              "\n",
              "    .dataframe tbody tr th {\n",
              "        vertical-align: top;\n",
              "    }\n",
              "\n",
              "    .dataframe thead th {\n",
              "        text-align: right;\n",
              "    }\n",
              "</style>\n",
              "<table border=\"1\" class=\"dataframe\">\n",
              "  <thead>\n",
              "    <tr style=\"text-align: right;\">\n",
              "      <th></th>\n",
              "      <th>text</th>\n",
              "    </tr>\n",
              "  </thead>\n",
              "  <tbody>\n",
              "    <tr>\n",
              "      <th>0</th>\n",
              "      <td>Valkyria Chronicles III</td>\n",
              "    </tr>\n",
              "    <tr>\n",
              "      <th>1</th>\n",
              "      <td>Senjō no Valkyria 3 Chronicles Japanese 戦場のヴァル...</td>\n",
              "    </tr>\n",
              "    <tr>\n",
              "      <th>2</th>\n",
              "      <td>The game began development in 2010 carrying ov...</td>\n",
              "    </tr>\n",
              "    <tr>\n",
              "      <th>3</th>\n",
              "      <td>It met with positive sales in Japan and was pr...</td>\n",
              "    </tr>\n",
              "    <tr>\n",
              "      <th>4</th>\n",
              "      <td>Gameplay</td>\n",
              "    </tr>\n",
              "    <tr>\n",
              "      <th>...</th>\n",
              "      <td>...</td>\n",
              "    </tr>\n",
              "    <tr>\n",
              "      <th>23762</th>\n",
              "      <td>In science and culture</td>\n",
              "    </tr>\n",
              "    <tr>\n",
              "      <th>23763</th>\n",
              "      <td>Common starlings may be kept as pets or as lab...</td>\n",
              "    </tr>\n",
              "    <tr>\n",
              "      <th>23764</th>\n",
              "      <td>The common starling s gift for mimicry has lon...</td>\n",
              "    </tr>\n",
              "    <tr>\n",
              "      <th>23765</th>\n",
              "      <td>Mozart had a pet common starling which could s...</td>\n",
              "    </tr>\n",
              "    <tr>\n",
              "      <th>23766</th>\n",
              "      <td>Common starlings are trapped for food in some ...</td>\n",
              "    </tr>\n",
              "  </tbody>\n",
              "</table>\n",
              "<p>23767 rows × 1 columns</p>\n",
              "</div>\n",
              "    <div class=\"colab-df-buttons\">\n",
              "\n",
              "  <div class=\"colab-df-container\">\n",
              "    <button class=\"colab-df-convert\" onclick=\"convertToInteractive('df-797f32fd-6bec-4075-85c4-3d90b8d7c9c5')\"\n",
              "            title=\"Convert this dataframe to an interactive table.\"\n",
              "            style=\"display:none;\">\n",
              "\n",
              "  <svg xmlns=\"http://www.w3.org/2000/svg\" height=\"24px\" viewBox=\"0 -960 960 960\">\n",
              "    <path d=\"M120-120v-720h720v720H120Zm60-500h600v-160H180v160Zm220 220h160v-160H400v160Zm0 220h160v-160H400v160ZM180-400h160v-160H180v160Zm440 0h160v-160H620v160ZM180-180h160v-160H180v160Zm440 0h160v-160H620v160Z\"/>\n",
              "  </svg>\n",
              "    </button>\n",
              "\n",
              "  <style>\n",
              "    .colab-df-container {\n",
              "      display:flex;\n",
              "      gap: 12px;\n",
              "    }\n",
              "\n",
              "    .colab-df-convert {\n",
              "      background-color: #E8F0FE;\n",
              "      border: none;\n",
              "      border-radius: 50%;\n",
              "      cursor: pointer;\n",
              "      display: none;\n",
              "      fill: #1967D2;\n",
              "      height: 32px;\n",
              "      padding: 0 0 0 0;\n",
              "      width: 32px;\n",
              "    }\n",
              "\n",
              "    .colab-df-convert:hover {\n",
              "      background-color: #E2EBFA;\n",
              "      box-shadow: 0px 1px 2px rgba(60, 64, 67, 0.3), 0px 1px 3px 1px rgba(60, 64, 67, 0.15);\n",
              "      fill: #174EA6;\n",
              "    }\n",
              "\n",
              "    .colab-df-buttons div {\n",
              "      margin-bottom: 4px;\n",
              "    }\n",
              "\n",
              "    [theme=dark] .colab-df-convert {\n",
              "      background-color: #3B4455;\n",
              "      fill: #D2E3FC;\n",
              "    }\n",
              "\n",
              "    [theme=dark] .colab-df-convert:hover {\n",
              "      background-color: #434B5C;\n",
              "      box-shadow: 0px 1px 3px 1px rgba(0, 0, 0, 0.15);\n",
              "      filter: drop-shadow(0px 1px 2px rgba(0, 0, 0, 0.3));\n",
              "      fill: #FFFFFF;\n",
              "    }\n",
              "  </style>\n",
              "\n",
              "    <script>\n",
              "      const buttonEl =\n",
              "        document.querySelector('#df-797f32fd-6bec-4075-85c4-3d90b8d7c9c5 button.colab-df-convert');\n",
              "      buttonEl.style.display =\n",
              "        google.colab.kernel.accessAllowed ? 'block' : 'none';\n",
              "\n",
              "      async function convertToInteractive(key) {\n",
              "        const element = document.querySelector('#df-797f32fd-6bec-4075-85c4-3d90b8d7c9c5');\n",
              "        const dataTable =\n",
              "          await google.colab.kernel.invokeFunction('convertToInteractive',\n",
              "                                                    [key], {});\n",
              "        if (!dataTable) return;\n",
              "\n",
              "        const docLinkHtml = 'Like what you see? Visit the ' +\n",
              "          '<a target=\"_blank\" href=https://colab.research.google.com/notebooks/data_table.ipynb>data table notebook</a>'\n",
              "          + ' to learn more about interactive tables.';\n",
              "        element.innerHTML = '';\n",
              "        dataTable['output_type'] = 'display_data';\n",
              "        await google.colab.output.renderOutput(dataTable, element);\n",
              "        const docLink = document.createElement('div');\n",
              "        docLink.innerHTML = docLinkHtml;\n",
              "        element.appendChild(docLink);\n",
              "      }\n",
              "    </script>\n",
              "  </div>\n",
              "\n",
              "\n",
              "<div id=\"df-9b24e7c5-550d-49cf-8878-c8d9194c5690\">\n",
              "  <button class=\"colab-df-quickchart\" onclick=\"quickchart('df-9b24e7c5-550d-49cf-8878-c8d9194c5690')\"\n",
              "            title=\"Suggest charts.\"\n",
              "            style=\"display:none;\">\n",
              "\n",
              "<svg xmlns=\"http://www.w3.org/2000/svg\" height=\"24px\"viewBox=\"0 0 24 24\"\n",
              "     width=\"24px\">\n",
              "    <g>\n",
              "        <path d=\"M19 3H5c-1.1 0-2 .9-2 2v14c0 1.1.9 2 2 2h14c1.1 0 2-.9 2-2V5c0-1.1-.9-2-2-2zM9 17H7v-7h2v7zm4 0h-2V7h2v10zm4 0h-2v-4h2v4z\"/>\n",
              "    </g>\n",
              "</svg>\n",
              "  </button>\n",
              "\n",
              "<style>\n",
              "  .colab-df-quickchart {\n",
              "      --bg-color: #E8F0FE;\n",
              "      --fill-color: #1967D2;\n",
              "      --hover-bg-color: #E2EBFA;\n",
              "      --hover-fill-color: #174EA6;\n",
              "      --disabled-fill-color: #AAA;\n",
              "      --disabled-bg-color: #DDD;\n",
              "  }\n",
              "\n",
              "  [theme=dark] .colab-df-quickchart {\n",
              "      --bg-color: #3B4455;\n",
              "      --fill-color: #D2E3FC;\n",
              "      --hover-bg-color: #434B5C;\n",
              "      --hover-fill-color: #FFFFFF;\n",
              "      --disabled-bg-color: #3B4455;\n",
              "      --disabled-fill-color: #666;\n",
              "  }\n",
              "\n",
              "  .colab-df-quickchart {\n",
              "    background-color: var(--bg-color);\n",
              "    border: none;\n",
              "    border-radius: 50%;\n",
              "    cursor: pointer;\n",
              "    display: none;\n",
              "    fill: var(--fill-color);\n",
              "    height: 32px;\n",
              "    padding: 0;\n",
              "    width: 32px;\n",
              "  }\n",
              "\n",
              "  .colab-df-quickchart:hover {\n",
              "    background-color: var(--hover-bg-color);\n",
              "    box-shadow: 0 1px 2px rgba(60, 64, 67, 0.3), 0 1px 3px 1px rgba(60, 64, 67, 0.15);\n",
              "    fill: var(--button-hover-fill-color);\n",
              "  }\n",
              "\n",
              "  .colab-df-quickchart-complete:disabled,\n",
              "  .colab-df-quickchart-complete:disabled:hover {\n",
              "    background-color: var(--disabled-bg-color);\n",
              "    fill: var(--disabled-fill-color);\n",
              "    box-shadow: none;\n",
              "  }\n",
              "\n",
              "  .colab-df-spinner {\n",
              "    border: 2px solid var(--fill-color);\n",
              "    border-color: transparent;\n",
              "    border-bottom-color: var(--fill-color);\n",
              "    animation:\n",
              "      spin 1s steps(1) infinite;\n",
              "  }\n",
              "\n",
              "  @keyframes spin {\n",
              "    0% {\n",
              "      border-color: transparent;\n",
              "      border-bottom-color: var(--fill-color);\n",
              "      border-left-color: var(--fill-color);\n",
              "    }\n",
              "    20% {\n",
              "      border-color: transparent;\n",
              "      border-left-color: var(--fill-color);\n",
              "      border-top-color: var(--fill-color);\n",
              "    }\n",
              "    30% {\n",
              "      border-color: transparent;\n",
              "      border-left-color: var(--fill-color);\n",
              "      border-top-color: var(--fill-color);\n",
              "      border-right-color: var(--fill-color);\n",
              "    }\n",
              "    40% {\n",
              "      border-color: transparent;\n",
              "      border-right-color: var(--fill-color);\n",
              "      border-top-color: var(--fill-color);\n",
              "    }\n",
              "    60% {\n",
              "      border-color: transparent;\n",
              "      border-right-color: var(--fill-color);\n",
              "    }\n",
              "    80% {\n",
              "      border-color: transparent;\n",
              "      border-right-color: var(--fill-color);\n",
              "      border-bottom-color: var(--fill-color);\n",
              "    }\n",
              "    90% {\n",
              "      border-color: transparent;\n",
              "      border-bottom-color: var(--fill-color);\n",
              "    }\n",
              "  }\n",
              "</style>\n",
              "\n",
              "  <script>\n",
              "    async function quickchart(key) {\n",
              "      const quickchartButtonEl =\n",
              "        document.querySelector('#' + key + ' button');\n",
              "      quickchartButtonEl.disabled = true;  // To prevent multiple clicks.\n",
              "      quickchartButtonEl.classList.add('colab-df-spinner');\n",
              "      try {\n",
              "        const charts = await google.colab.kernel.invokeFunction(\n",
              "            'suggestCharts', [key], {});\n",
              "      } catch (error) {\n",
              "        console.error('Error during call to suggestCharts:', error);\n",
              "      }\n",
              "      quickchartButtonEl.classList.remove('colab-df-spinner');\n",
              "      quickchartButtonEl.classList.add('colab-df-quickchart-complete');\n",
              "    }\n",
              "    (() => {\n",
              "      let quickchartButtonEl =\n",
              "        document.querySelector('#df-9b24e7c5-550d-49cf-8878-c8d9194c5690 button');\n",
              "      quickchartButtonEl.style.display =\n",
              "        google.colab.kernel.accessAllowed ? 'block' : 'none';\n",
              "    })();\n",
              "  </script>\n",
              "</div>\n",
              "    </div>\n",
              "  </div>\n"
            ]
          },
          "metadata": {},
          "execution_count": 9
        }
      ]
    },
    {
      "cell_type": "code",
      "source": [],
      "metadata": {
        "id": "dKrgcbq_vb1M"
      },
      "execution_count": null,
      "outputs": []
    },
    {
      "cell_type": "code",
      "execution_count": null,
      "metadata": {
        "colab": {
          "base_uri": "https://localhost:8080/"
        },
        "id": "4_2rf6kQkqnl",
        "outputId": "52eea0f5-a4f2-4430-8a1b-943f89eb2165"
      },
      "outputs": [
        {
          "output_type": "stream",
          "name": "stdout",
          "text": [
            "1-grams\n",
            "{'the': 113161, 'of': 56889, 'and': 50603, 'in': 39486, 'to': 39190, 'a': 34250, 'was': 20985, 'The': 17602, 's': 14322, 'that': 14135}\n",
            "2-grams\n",
            "{'of the': 17052, 'in the': 10606, 'to the': 6041, 'and the': 4347, 'on the': 4202, 'for the': 3519, 'from the': 2898, 'at the': 2737, 'by the': 2721, 'as a': 2668}\n",
            "3-grams\n",
            "{'one of the': 778, 'the United States': 655, 'as well as': 580, 'part of the': 527, 'the end of': 501, 'end of the': 359, 'in the United': 347, 'a number of': 273, 'at the time': 246, 'known as the': 245}\n"
          ]
        }
      ],
      "source": [
        "from operator import itemgetter\n",
        "N = 10\n",
        "\n",
        "\n",
        "for n in range(1, 4):\n",
        "    print(f\"{n}-grams\")\n",
        "    context = {}\n",
        "\n",
        "    for i in range(len(train_df)):\n",
        "        context = n_gram(train_df['text'][i], context, n)\n",
        "    top_10 = dict(sorted(context.items(), key=itemgetter(1), reverse=True)[:N])\n",
        "    print(top_10)\n",
        "\n"
      ]
    },
    {
      "cell_type": "markdown",
      "metadata": {
        "id": "o-6ok0vEl5_h"
      },
      "source": [
        "Write-Up: Explain the differences between your most common unigrams. Bigrams? Trigrams?"
      ]
    },
    {
      "cell_type": "markdown",
      "metadata": {
        "id": "9Qp5ukD4l-LP"
      },
      "source": [
        "\n",
        "*   Unigrams captures more articles, conjunctions, prepositions, and adverbs.\n",
        "*   Bigrams are pairs of adjacent words that frequently occur together. They represent two-word combinations, or \"collocations\".\n",
        "*   Trigrams sequences of three words that occur together frequently.\n",
        "Some of them seem to represent specific phrases. (e.g., one of the, the united states, and as well as.)"
      ]
    },
    {
      "cell_type": "markdown",
      "metadata": {
        "id": "q_2FDmtLU8TP"
      },
      "source": [
        "## Problem 2: Word Embeddings"
      ]
    },
    {
      "cell_type": "markdown",
      "metadata": {
        "id": "FoXNCy37VD2_"
      },
      "source": [
        "In this problem, we'll be working with pretrained word vectors. We'll be using the package gensim to work with pretrained Word2Vec vectors."
      ]
    },
    {
      "cell_type": "code",
      "execution_count": null,
      "metadata": {
        "colab": {
          "base_uri": "https://localhost:8080/"
        },
        "id": "pQswWMXraDhu",
        "outputId": "411973a8-b917-4e77-839b-76174d05a947"
      },
      "outputs": [
        {
          "output_type": "stream",
          "name": "stdout",
          "text": [
            "Requirement already satisfied: gensim in /usr/local/lib/python3.10/dist-packages (4.3.2)\n",
            "Requirement already satisfied: numpy>=1.18.5 in /usr/local/lib/python3.10/dist-packages (from gensim) (1.23.5)\n",
            "Requirement already satisfied: scipy>=1.7.0 in /usr/local/lib/python3.10/dist-packages (from gensim) (1.11.2)\n",
            "Requirement already satisfied: smart-open>=1.8.1 in /usr/local/lib/python3.10/dist-packages (from gensim) (6.4.0)\n"
          ]
        }
      ],
      "source": [
        "!pip install gensim -U"
      ]
    },
    {
      "cell_type": "code",
      "execution_count": null,
      "metadata": {
        "id": "2kezOg6VXnvk"
      },
      "outputs": [],
      "source": [
        "import gensim\n",
        "from gensim import downloader\n",
        "wv = downloader.load(\"glove-wiki-gigaword-100\") # loading pretrained word vectors"
      ]
    },
    {
      "cell_type": "markdown",
      "metadata": {
        "id": "tsa1gZJmY_6d"
      },
      "source": [
        "### Problem 2.1: Finding similar words"
      ]
    },
    {
      "cell_type": "markdown",
      "metadata": {
        "id": "c-kjkeoAl69O"
      },
      "source": [
        "TODO: Complete this function which returns the cosine_similarity between two vectors.\n",
        ">Hint: Recall the cosine similarty defined as follows: $$similarity(u, v) = \\frac{u \\cdot v}{||u||\\cdot||v||}$$"
      ]
    },
    {
      "cell_type": "code",
      "execution_count": null,
      "metadata": {
        "id": "p-8HcG28cf5x"
      },
      "outputs": [],
      "source": [
        "import numpy as np\n",
        "from numpy.linalg import norm\n",
        "# code reference: https://www.geeksforgeeks.org/how-to-calculate-cosine-similarity-in-python/\n",
        "\n",
        "def cosine_similarity(u, v):\n",
        "  \"\"\"Function to calculate the cosine similary between two vectors\n",
        "\n",
        "  Args:\n",
        "    u (ndarray): vector\n",
        "    v (ndarray): vector\n",
        "\n",
        "  Returns:\n",
        "    similarity (float): The cosine similarity between vectors u and v\n",
        "  \"\"\"\n",
        "\n",
        "  # compute cosine similarity\n",
        "  cosine = np.dot(u, v)/(norm(u)*norm(v))\n",
        "  # print(\"Cosine Similarity:\", cosine)\n",
        "\n",
        "  return cosine"
      ]
    },
    {
      "cell_type": "markdown",
      "metadata": {
        "id": "EbASqj97meqI"
      },
      "source": [
        "TODO: Implement the function below. It should return the word that is most similar to positive_words and least similar to negative words.\n",
        "\n",
        "> Hint: You might find Gensim's documentation on [KeyedVectors](https://radimrehurek.com/gensim/models/keyedvectors.html#gensim.models.keyedvectors.WordEmbeddingsKeyedVectors.wmdistance) and [Word2Vec Models](https://radimrehurek.com/gensim/auto_examples/tutorials/run_word2vec.html) helpful for syntax, but you should *not* call their most_similar method."
      ]
    },
    {
      "cell_type": "code",
      "source": [
        "for index, word in enumerate(wv.index_to_key):\n",
        "    if index == 10:\n",
        "        break\n",
        "    print(f\"word #{index}/{len(wv.index_to_key)} is {word}\")"
      ],
      "metadata": {
        "colab": {
          "base_uri": "https://localhost:8080/"
        },
        "id": "jRRyDOdCWgQt",
        "outputId": "00d20cc3-3050-4a89-8a76-8a078ff96918"
      },
      "execution_count": null,
      "outputs": [
        {
          "output_type": "stream",
          "name": "stdout",
          "text": [
            "word #0/400000 is the\n",
            "word #1/400000 is ,\n",
            "word #2/400000 is .\n",
            "word #3/400000 is of\n",
            "word #4/400000 is to\n",
            "word #5/400000 is and\n",
            "word #6/400000 is in\n",
            "word #7/400000 is a\n",
            "word #8/400000 is \"\n",
            "word #9/400000 is 's\n"
          ]
        }
      ]
    },
    {
      "cell_type": "code",
      "execution_count": null,
      "metadata": {
        "id": "rXvqmemeaWnF"
      },
      "outputs": [],
      "source": [
        "def most_similar(wv, input_word):\n",
        "  \"\"\"Function to calculate the word most similar to input_word\n",
        "\n",
        "  Args:\n",
        "    wv (KeyedVector): pretrained word vectors\n",
        "    input_word (List(str)): input_word\n",
        "\n",
        "  Returns:\n",
        "    best_word, best_score (Tuple(str, float))\n",
        "  \"\"\"\n",
        "  input_word_v = wv[input_word]\n",
        "  best_word = None\n",
        "  best_score = -1\n",
        "\n",
        "\n",
        "  for word in wv.index_to_key:\n",
        "      if word != input_word:\n",
        "          word_v = wv[word]\n",
        "          similarity = cosine_similarity(input_word_v, word_v)\n",
        "\n",
        "          if similarity > best_score:\n",
        "              best_word = word\n",
        "              best_score = similarity\n",
        "\n",
        "  return best_word, best_score\n"
      ]
    },
    {
      "cell_type": "markdown",
      "metadata": {
        "id": "j-r7cDyDZFhV"
      },
      "source": [
        "TODO: Using the method you wrote above, find the most similar words to: dog, whale, before, however, fabricate."
      ]
    },
    {
      "cell_type": "code",
      "execution_count": null,
      "metadata": {
        "id": "jXv_7oViqSkE",
        "colab": {
          "base_uri": "https://localhost:8080/"
        },
        "outputId": "938f8838-8e56-4141-961c-c0790b841131"
      },
      "outputs": [
        {
          "output_type": "stream",
          "name": "stdout",
          "text": [
            "dog's most similar word:  ('cat', 0.8798076)\n",
            "whale's most similar word:  ('whales', 0.80388796)\n",
            "before's most similar word:  ('after', 0.92460865)\n",
            "however's most similar word:  ('although', 0.96575457)\n",
            "fabricate's most similar word:  ('invent', 0.7040183)\n"
          ]
        }
      ],
      "source": [
        "print('dog\\'s most similar word: ', most_similar(wv,\"dog\"))\n",
        "print('whale\\'s most similar word: ', most_similar(wv,\"whale\"))\n",
        "print('before\\'s most similar word: ', most_similar(wv,\"before\"))\n",
        "print('however\\'s most similar word: ', most_similar(wv,\"however\"))\n",
        "print('fabricate\\'s most similar word: ', most_similar(wv,\"fabricate\"))"
      ]
    },
    {
      "cell_type": "markdown",
      "metadata": {
        "id": "MmD8ZyjNqyP9"
      },
      "source": [
        "### Problem 2.2: Using word embeddings to solve analogies"
      ]
    },
    {
      "cell_type": "markdown",
      "metadata": {
        "id": "UC2LqQo7rkpn"
      },
      "source": [
        "TODO: Implement the following function to to calculate the word most similar to positive_words and least similar to negative words. This function should be similar to the `most_similar` function above, but more robust in the sense that is should be able to handle multiple positive and negative words.\n",
        "> Hint: Use vector addition and subtraction to compute target vectors for the analogies. Again, you should not call Gensim's `most_similar` method."
      ]
    },
    {
      "cell_type": "code",
      "execution_count": null,
      "metadata": {
        "id": "tzViiMb4rHaR"
      },
      "outputs": [],
      "source": [
        "def most_similar_robust(wv, positive_words=None, negative_words=None):\n",
        "    \"\"\"Function to calculate the word most similar to positive_words and least similar to negative words\n",
        "\n",
        "    Args:\n",
        "        wv (KeyedVector): pretrained word vectors\n",
        "        positive_words (List[str]): List of positive words\n",
        "        negative_words (List[str]): List of negative words\n",
        "\n",
        "    Returns:\n",
        "        best_word (str): The word most similar to positive_words and least similar to negative words\n",
        "    \"\"\"\n",
        "\n",
        "    best_score = -99999\n",
        "    best_word = None\n",
        "\n",
        "    if positive_words is None:\n",
        "        positive_words = []\n",
        "    if negative_words is None:\n",
        "      negative_words = []\n",
        "\n",
        "    # formula reference from https://kawine.github.io/blog/nlp/2019/06/21/word-analogies.html\n",
        "    # Compute the vector by adding vectors of positive words and subtracting vectors of negative words\n",
        "    # vd = vb + (vc - va)\n",
        "    word_4 = np.zeros(wv.vector_size)\n",
        "    for word in positive_words:\n",
        "        word_4 += wv[word]\n",
        "    for word in negative_words:\n",
        "        word_4 -= wv[word]\n",
        "\n",
        "    for word in wv.index_to_key:\n",
        "        if word in [positive_words[0], positive_words[1], negative_words[0]]:\n",
        "            continue\n",
        "\n",
        "        wvec = wv[word]\n",
        "\n",
        "        similarity = cosine_similarity(wvec,word_4)\n",
        "        if similarity > best_score:\n",
        "            best_score = similarity\n",
        "            best_word = word\n",
        "\n",
        "\n",
        "    return best_word, best_score\n"
      ]
    },
    {
      "cell_type": "markdown",
      "metadata": {
        "id": "HzQKoFqUsEah"
      },
      "source": [
        "TODO: Use the method above to solve the following analogies, where a is to b as c is to ___ “, which is often represented as a : b :: c : d :\n",
        "\n",
        " vd = vb + (vc - va) == vb – va = vd – vc. Find the most similar vector in the corpus to vd.\n",
        "- dog:puppy :: cat:?\n",
        "- man:king :: woman:?\n",
        "- france:wine :: england:?"
      ]
    },
    {
      "cell_type": "code",
      "execution_count": null,
      "metadata": {
        "id": "nDuoOCvdr_iV",
        "colab": {
          "base_uri": "https://localhost:8080/"
        },
        "outputId": "c6e67ff2-d773-4744-d6df-fffc0366f4cf"
      },
      "outputs": [
        {
          "output_type": "stream",
          "name": "stdout",
          "text": [
            "For analogy 'dog:puppy::cat:?', the missing word is 'kitten' with similarity score 0.6617627544171691'\n",
            "\n",
            "For analogy 'man:king::woman:?', the missing word is 'queen' with similarity score 0.7834413916974592'\n",
            "\n",
            "For analogy 'france:wine::england:?', the missing word is 'tea' with similarity score 0.6066607723493729'\n",
            "\n"
          ]
        }
      ],
      "source": [
        "analogies = [(\"cat\", \"puppy\", \"dog\"), (\"woman\", \"king\", \"man\"), (\"england\", \"wine\", \"france\")]\n",
        "\n",
        "for analogy in analogies:\n",
        "    word_1, word_2, word_3 = analogy\n",
        "\n",
        "\n",
        "    # Find the missing word using most_similar_robust function\n",
        "    best_word, best_score  = most_similar_robust(wv, [word_1, word_2], [word_3])\n",
        "\n",
        "    # Print the analogy and the missing word\n",
        "    print(f\"For analogy '{word_3}:{word_2}::{word_1}:?', the missing word is '{best_word}' with similarity score {best_score}'\\n\")\n",
        "\n"
      ]
    },
    {
      "cell_type": "code",
      "source": [],
      "metadata": {
        "id": "zOCwxzj3j08S"
      },
      "execution_count": null,
      "outputs": []
    }
  ],
  "metadata": {
    "accelerator": "GPU",
    "colab": {
      "provenance": [],
      "gpuType": "T4"
    },
    "kernelspec": {
      "display_name": "Python 3",
      "name": "python3"
    },
    "language_info": {
      "name": "python"
    }
  },
  "nbformat": 4,
  "nbformat_minor": 0
}